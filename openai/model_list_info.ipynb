{
 "cells": [
  {
   "cell_type": "markdown",
   "metadata": {},
   "source": [
    "- 配置环境后, 运行以下代码块查看可用模型"
   ]
  },
  {
   "cell_type": "code",
   "execution_count": 2,
   "metadata": {},
   "outputs": [
    {
     "name": "stdout",
     "output_type": "stream",
     "text": [
      "{\"object\":\"list\",\"data\":[{\"id\":\"gpt-4o-mini-2024-07-18\",\"object\":\"model\",\"created\":1715367049,\"owned_by\":\"system\"},{\"id\":\"o1-preview-ca\",\"object\":\"model\",\"created\":1706048358,\"owned_by\":\"ca\"},{\"id\":\"tts-1-hd-1106\",\"object\":\"model\",\"created\":1699053533,\"owned_by\":\"system\"},{\"id\":\"gpt-4o-mini\",\"object\":\"model\",\"created\":1715367049,\"owned_by\":\"system\"},{\"id\":\"text-embedding-3-large\",\"object\":\"model\",\"created\":1705953180,\"owned_by\":\"system\"},{\"id\":\"o1-mini-ca\",\"object\":\"model\",\"created\":1706048358,\"owned_by\":\"ca\"},{\"id\":\"o1-preview\",\"object\":\"model\",\"created\":1706048358,\"owned_by\":\"ca\"},{\"id\":\"gpt-3.5-turbo-instruct-0914\",\"object\":\"model\",\"created\":1694122472,\"owned_by\":\"system\"},{\"id\":\"tts-1-hd\",\"object\":\"model\",\"created\":1699046015,\"owned_by\":\"system\"},{\"id\":\"gpt-3.5-turbo-1106\",\"object\":\"model\",\"created\":1698959748,\"owned_by\":\"system\"},{\"id\":\"gpt-3.5-turbo-0613\",\"object\":\"model\",\"created\":1686587434,\"owned_by\":\"openai\"},{\"id\":\"claude-3-5-haiku-20241022\",\"object\":\"model\",\"created\":1678604602,\"owned_by\":\"ca\"},{\"id\":\"gpt-4-0125-preview\",\"object\":\"model\",\"created\":1706037612,\"owned_by\":\"system\"},{\"id\":\"gpt-4-1106-preview\",\"object\":\"model\",\"created\":1698957206,\"owned_by\":\"system\"},{\"id\":\"gpt-4-ca\",\"object\":\"model\",\"created\":1678604602,\"owned_by\":\"ca\"},{\"id\":\"gpt-3.5-turbo\",\"object\":\"model\",\"created\":1677610602,\"owned_by\":\"openai\"},{\"id\":\"chatgpt-4o-latest\",\"object\":\"model\",\"created\":1715368132,\"owned_by\":\"system\"},{\"id\":\"gpt-4o-ca\",\"object\":\"model\",\"created\":1706048358,\"owned_by\":\"ca\"},{\"id\":\"gpt-4-turbo-2024-04-09\",\"object\":\"model\",\"created\":1712601677,\"owned_by\":\"system\"},{\"id\":\"gpt-3.5-turbo-0301\",\"object\":\"model\",\"created\":1677649963,\"owned_by\":\"openai\"},{\"id\":\"o1-mini\",\"object\":\"model\",\"created\":1706048358,\"owned_by\":\"ca\"},{\"id\":\"gpt-3.5-turbo-instruct\",\"object\":\"model\",\"created\":1692901427,\"owned_by\":\"system\"},{\"id\":\"dall-e-3\",\"object\":\"model\",\"created\":1698785189,\"owned_by\":\"system\"},{\"id\":\"gpt-4o\",\"object\":\"model\",\"created\":1715367049,\"owned_by\":\"system\"},{\"id\":\"gpt-4-vision-preview\",\"object\":\"model\",\"created\":1698894917,\"owned_by\":\"system\"},{\"id\":\"dall-e-2\",\"object\":\"model\",\"created\":1698798177,\"owned_by\":\"system\"},{\"id\":\"o1-preview\",\"object\":\"model\",\"created\":1706048358,\"owned_by\":\"ca\"},{\"id\":\"gpt-3.5-turbo-16k-0613\",\"object\":\"model\",\"created\":1685474247,\"owned_by\":\"openai\"},{\"id\":\"gpt-4o-2024-11-20\",\"object\":\"model\",\"created\":1715368132,\"owned_by\":\"system\"},{\"id\":\"gpt-4-turbo\",\"object\":\"model\",\"created\":1712361441,\"owned_by\":\"system\"},{\"id\":\"gpt-4-turbo-preview\",\"object\":\"model\",\"created\":1706037777,\"owned_by\":\"system\"},{\"id\":\"claude-3-5-sonnet-20240620\",\"object\":\"model\",\"created\":1678604602,\"owned_by\":\"ca\"},{\"id\":\"gpt-4o-audio-preview-2024-10-01\",\"object\":\"model\",\"created\":1715368132,\"owned_by\":\"system\"},{\"id\":\"gpt-4-0613\",\"object\":\"model\",\"created\":1686588896,\"owned_by\":\"openai\"},{\"id\":\"tts-1-1106\",\"object\":\"model\",\"created\":1699053241,\"owned_by\":\"system\"},{\"id\":\"tts-1\",\"object\":\"model\",\"created\":1681940951,\"owned_by\":\"openai-internal\"},{\"id\":\"gpt-4o-2024-05-13\",\"object\":\"model\",\"created\":1715368132,\"owned_by\":\"system\"},{\"id\":\"gpt-3.5-turbo-ca\",\"object\":\"model\",\"created\":1706048358,\"owned_by\":\"ca\"},{\"id\":\"gpt-4o-2024-08-06\",\"object\":\"model\",\"created\":1715368132,\"owned_by\":\"system\"},{\"id\":\"text-embedding-3-small\",\"object\":\"model\",\"created\":1705948997,\"owned_by\":\"system\"},{\"id\":\"gpt-4o-audio-preview\",\"object\":\"model\",\"created\":1715368132,\"owned_by\":\"system\"},{\"id\":\"gpt-4-turbo-ca\",\"object\":\"model\",\"created\":1706048358,\"owned_by\":\"ca\"},{\"id\":\"chatgpt-4o-latest-ca\",\"object\":\"model\",\"created\":1715368132,\"owned_by\":\"system\"},{\"id\":\"gpt-4-turbo-preview-ca\",\"object\":\"model\",\"created\":1706048358,\"owned_by\":\"ca\"},{\"id\":\"gpt-4-1106-vision-preview\",\"object\":\"model\",\"created\":1711473033,\"owned_by\":\"system\"},{\"id\":\"whisper-1\",\"object\":\"model\",\"created\":1677532384,\"owned_by\":\"openai-internal\"},{\"id\":\"claude-3-5-sonnet-20241022\",\"object\":\"model\",\"created\":1678604602,\"owned_by\":\"ca\"},{\"id\":\"text-embedding-ada-002\",\"object\":\"model\",\"created\":1671217299,\"owned_by\":\"openai-internal\"},{\"id\":\"gpt-4\",\"object\":\"model\",\"created\":1678604602,\"owned_by\":\"openai\"},{\"id\":\"gpt-3.5-turbo-16k\",\"object\":\"model\",\"created\":1683758102,\"owned_by\":\"openai-internal\"},{\"id\":\"gpt-3.5-turbo-0125\",\"object\":\"model\",\"created\":1706048358,\"owned_by\":\"system\"},{\"id\":\"o1-mini\",\"object\":\"model\",\"created\":1706048358,\"owned_by\":\"ca\"}]}\n"
     ]
    }
   ],
   "source": [
    "#!/usr/bin/env python\n",
    "# -*- encoding: utf-8 -*-\n",
    "'''\n",
    "@File    :   model_list.py\n",
    "@Time    :   2024/12/13 09:46:06\n",
    "@Author  :   pan binghong \n",
    "@Email   :   19909442097@163.com\n",
    "@description   :   View the list of available models.\n",
    "'''\n",
    "\n",
    "import os\n",
    "import http.client\n",
    "from dotenv import load_dotenv\n",
    "\n",
    "load_dotenv()\n",
    "\n",
    "openai_api_key = os.getenv('OPENAI_API_KEY')\n",
    "\n",
    "conn = http.client.HTTPSConnection(\"api.chatanywhere.tech\")\n",
    "payload = ''\n",
    "headers = {\n",
    "   'Authorization': f'Bearer {openai_api_key}'\n",
    "}\n",
    "conn.request(\"GET\", \"/v1/models\", payload, headers)\n",
    "res = conn.getresponse()\n",
    "data = res.read()\n",
    "print(data.decode(\"utf-8\"))"
   ]
  }
 ],
 "metadata": {
  "kernelspec": {
   "display_name": "llm-api",
   "language": "python",
   "name": "python3"
  },
  "language_info": {
   "codemirror_mode": {
    "name": "ipython",
    "version": 3
   },
   "file_extension": ".py",
   "mimetype": "text/x-python",
   "name": "python",
   "nbconvert_exporter": "python",
   "pygments_lexer": "ipython3",
   "version": "3.11.11"
  }
 },
 "nbformat": 4,
 "nbformat_minor": 2
}
